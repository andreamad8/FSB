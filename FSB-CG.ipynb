{
 "cells": [
  {
   "cell_type": "code",
   "execution_count": null,
   "metadata": {},
   "outputs": [],
   "source": [
    "from utils.utils import load_model\n",
    "from prompts.generic_prompt import load_prefix, load_prefix_by_category, generate_response_interactive\n",
    "from prompts.image_chat import convert_sample_to_shot_IC_prefix_interact, convert_sample_to_shot_IC_interact\n",
    "import pprint\n",
    "import random\n",
    "pp = pprint.PrettyPrinter(indent=4)\n",
    "args = type('', (), {})()\n",
    "args.multigpu = False\n",
    "device = 4\n",
    "\n",
    "## To use GPT-Jumbo (178B) set this to true and input your api-key\n",
    "## Visit https://studio.ai21.com/account for more info\n",
    "api = False\n",
    "api_key = ''"
   ]
  },
  {
   "cell_type": "code",
   "execution_count": null,
   "metadata": {},
   "outputs": [],
   "source": [
    "## This is the config dictionary used to select the template converter\n",
    "mapper = {\n",
    "          \"IC\": {\"shot_converter\":convert_sample_to_shot_IC_prefix_interact, \n",
    "                 \"shot_converter_inference\": convert_sample_to_shot_IC_interact,\n",
    "                 \"file_data\":\"data/image_chat/\",\"with_knowledge\":False,\n",
    "                  \"shots\":{1024:[0,1,5],2048:[0,1,10]},\"max_shot\":{1024:5,2048:10},\n",
    "                  \"shot_separator\":\"\\n\\n\",\n",
    "                  \"meta_type\":\"all_turns_category\",\"gen_len\":50,\"max_number_turns\":5},\n",
    "         }"
   ]
  },
  {
   "cell_type": "code",
   "execution_count": null,
   "metadata": {
    "tags": []
   },
   "outputs": [],
   "source": [
    "## Load LM and tokenizer\n",
    "model, tokenizer, max_seq = load_model(args,\"EleutherAI/gpt-neo-1.3B\",device)"
   ]
  },
  {
   "cell_type": "code",
   "execution_count": null,
   "metadata": {
    "tags": []
   },
   "outputs": [],
   "source": [
    "prefix_dict = load_prefix_by_category(tokenizer=tokenizer, \n",
    "                                      shots_value=mapper[\"IC\"][\"shots\"][max_seq], \n",
    "                                      shot_converter=mapper[\"IC\"][\"shot_converter\"], \n",
    "                                      file_shot=mapper[\"IC\"][\"file_data\"]+\"valid.json\", \n",
    "                                      name_dataset=\"IC\", with_knowledge=mapper[\"IC\"][\"with_knowledge\"], \n",
    "                                      shot_separator=mapper[\"IC\"][\"shot_separator\"],sample_times=1)[0]"
   ]
  },
  {
   "cell_type": "code",
   "execution_count": null,
   "metadata": {
    "tags": [
     "outputPrepend"
    ]
   },
   "outputs": [],
   "source": [
    "prompt_sytle = {}\n",
    "for sty in prefix_dict.keys():\n",
    "    sty_name = sty.replace(\" \",\"-\").replace(\"(\",\"\").replace(\")\",\"\").replace(\",\",\"\").split(\"_\")[0]\n",
    "    prompt_sytle[sty_name] = prefix_dict[sty]\n",
    "\n",
    "styles = \", \".join(list(prompt_sytle.keys()))\n",
    "print(f\"The possible styles are \\n {styles}\")\n",
    "dialogue = {\"dialogue\":[],\"personalities\":\"\"}\n",
    "while True: \n",
    "    user_utt = input(\">>> \")\n",
    "    print(f\"User >>> {user_utt}\")\n",
    "    dialogue[\"dialogue\"].append([user_utt,\"\"])\n",
    "    print(\"Choose a style from the list!\")\n",
    "    style = input(\">>> \")\n",
    "    if style not in prompt_sytle.keys():\n",
    "        print(\"You have to choose a style from the list!\")\n",
    "        print(\"This time a random style is selected!\")\n",
    "        style = random.sample(list(prompt_sytle.keys()), 1)[0]\n",
    "        print(f\"You got the {style} style!\")\n",
    "    dialogue[\"personalities\"] = style\n",
    "    prefix_shots = prompt_sytle[style]\n",
    "\n",
    "    prefix = prefix_shots.get(mapper[\"IC\"][\"max_shot\"][max_seq])\n",
    "    response = generate_response_interactive(model, tokenizer, shot_converter=mapper[\"IC\"][\"shot_converter_inference\"], \n",
    "                                                dialogue=dialogue, prefix=prefix, \n",
    "                                                device=device, max_number_turns=mapper[\"IC\"][\"max_number_turns\"], \n",
    "                                                with_knowledge=mapper[\"IC\"][\"with_knowledge\"], \n",
    "                                                meta_type=mapper[\"IC\"][\"meta_type\"], gen_len=50, \n",
    "                                                beam=1, max_seq=max_seq, eos_token_id=198, \n",
    "                                                do_sample=True, multigpu=False, api=api, api_key=api_key)\n",
    "                    \n",
    "\n",
    "    print(f\"FSB ({style}) >>> {response}\")\n",
    "    dialogue[\"dialogue\"][-1][1] = response"
   ]
  },
  {
   "cell_type": "code",
   "execution_count": null,
   "metadata": {},
   "outputs": [],
   "source": []
  }
 ],
 "metadata": {
  "language_info": {
   "codemirror_mode": {
    "name": "ipython",
    "version": 3
   },
   "file_extension": ".py",
   "mimetype": "text/x-python",
   "name": "python",
   "nbconvert_exporter": "python",
   "pygments_lexer": "ipython3",
   "version": "3.7.10-final"
  },
  "orig_nbformat": 2,
  "kernelspec": {
   "name": "python371064bit2821c06c19f04f5b9ccde7ca4af69bcf",
   "display_name": "Python 3.7.10 64-bit"
  }
 },
 "nbformat": 4,
 "nbformat_minor": 2
}